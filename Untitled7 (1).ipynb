{
 "cells": [
  {
   "cell_type": "markdown",
   "metadata": {},
   "source": [
    "# My Jupyter Notebook on IBM Watson Studio"
   ]
  },
  {
   "cell_type": "markdown",
   "metadata": {},
   "source": [
    "**Name - AMIJOT SINGH CHOPRA**\n",
    "\n",
    "Student - B.Tech CSE"
   ]
  },
  {
   "cell_type": "markdown",
   "metadata": {},
   "source": [
    "*I am interested in data science because Data Science is a multidisciplinary field that requires the skills of math, computer science, statistics, etc.*"
   ]
  },
  {
   "cell_type": "markdown",
   "metadata": {},
   "source": [
    "## Finding if the list contains all even numbers or not"
   ]
  },
  {
   "cell_type": "code",
   "execution_count": null,
   "metadata": {},
   "outputs": [],
   "source": [
    "def even_odd_list(list1,n):\n",
    "    flag =1\n",
    "    for i in range(0,n):\n",
    "        if list1[i]%2==0:\n",
    "            pass\n",
    "        else:\n",
    "            flag=0\n",
    "        \n",
    "        \n",
    "    if(flag==1):\n",
    "        print('even')\n",
    "    else:\n",
    "        print('odd')\n",
    "        \n",
    "        \n",
    "        \n",
    "n = int(input('enter the size '))\n",
    "list1 = []\n",
    "\n",
    "for i in range(0,n):\n",
    "    a = int(input(f'enter at pos {i}'))\n",
    "    list1.append(a)\n",
    "\n",
    "    \n",
    "    \n",
    "even_odd_list(list1,n)"
   ]
  },
  {
   "cell_type": "markdown",
   "metadata": {},
   "source": [
    "***\n",
    "Ordered List\n",
    "\n",
    "1. Item 1\n",
    "2. Item 2\n",
    "3. Item 3\n",
    "***\n"
   ]
  },
  {
   "cell_type": "markdown",
   "metadata": {},
   "source": [
    "https://github.com/AMIJOTSINGHCHOPRA\n",
    " \n",
    " hyperlink above"
   ]
  },
  {
   "cell_type": "markdown",
   "metadata": {},
   "source": [
    "<img src=\"https://cafedelites.com/wp-content/uploads/2019/01/Butter-Chicken-IMAGE-27.jpg\" alt=\"CHICKEN\" title=\"BUTTER CHICKEN\" />\n",
    "\n",
    "img above"
   ]
  },
  {
   "cell_type": "markdown",
   "metadata": {},
   "source": [
    "- Hello Guys\n",
    "- Example Bullet list"
   ]
  }
 ],
 "metadata": {
  "kernelspec": {
   "display_name": "Python 3 (ipykernel)",
   "language": "python",
   "name": "python3"
  },
  "language_info": {
   "codemirror_mode": {
    "name": "ipython",
    "version": 3
   },
   "file_extension": ".py",
   "mimetype": "text/x-python",
   "name": "python",
   "nbconvert_exporter": "python",
   "pygments_lexer": "ipython3",
   "version": "3.9.12"
  }
 },
 "nbformat": 4,
 "nbformat_minor": 4
}
